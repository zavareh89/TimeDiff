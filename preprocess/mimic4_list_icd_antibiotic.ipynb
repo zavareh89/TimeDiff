{
 "cells": [
  {
   "cell_type": "markdown",
   "metadata": {},
   "source": []
  },
  {
   "cell_type": "code",
   "execution_count": 10,
   "metadata": {},
   "outputs": [
    {
     "data": {
      "text/plain": [
       "array(['ICD9: 4019', 'ICD9: 2724', 'ICD10: I10', 'ICD10: E785',\n",
       "       'ICD9: 53081', 'ICD9: 25000', 'ICD10: Z87891', 'ICD9: 42731',\n",
       "       'ICD9: 311', 'ICD9: 4280', 'ICD9: 41401', 'ICD10: K219',\n",
       "       'ICD9: V1582', 'ICD10: F329', 'ICD9: 5849', 'ICD9: 2449',\n",
       "       'ICD10: I2510', 'ICD9: 3051', 'ICD9: 2859', 'ICD9: 40390',\n",
       "       'ICD10: F419', 'ICD9: V5861', 'ICD9: 30000', 'ICD10: N179',\n",
       "       'ICD9: 5990', 'ICD9: 2720', 'ICD9: 49390', 'ICD9: V5867',\n",
       "       'ICD10: Z794', 'ICD10: E039', 'ICD9: 5859', 'ICD10: Z7901',\n",
       "       'ICD10: E119', 'ICD9: 32723', 'ICD10: F17210', 'ICD10: Y929',\n",
       "       'ICD9: V4582', 'ICD9: 412', 'ICD9: V5866', 'ICD10: G4733',\n",
       "       'ICD9: 496', 'ICD9: 27800', 'ICD10: E669', 'ICD10: I4891',\n",
       "       'ICD10: D649', 'ICD10: J45909', 'ICD10: Z7902', 'ICD9: V4581',\n",
       "       'ICD9: 2761', 'ICD9: 41400', 'ICD9: 73300', 'ICD9: 30500',\n",
       "       'ICD10: J449', 'ICD9: 33829', 'ICD9: V1251', 'ICD10: Z66',\n",
       "       'ICD9: 486', 'ICD10: N390', 'ICD9: 2749', 'ICD9: 27651',\n",
       "       'ICD10: D62', 'ICD10: I129', 'ICD9: V1254', 'ICD9: V4986',\n",
       "       'ICD9: V270', 'ICD10: E1122', 'ICD9: 78650', 'ICD10: I252',\n",
       "       'ICD9: 2851', 'ICD10: N189', 'ICD9: 60000', 'ICD9: 56400'],\n",
       "      dtype='<U13')"
      ]
     },
     "execution_count": 10,
     "metadata": {},
     "output_type": "execute_result"
    }
   ],
   "source": [
    "import pickle\n",
    "import numpy as np\n",
    "sorted_code_freqs = pickle.load(open(\"data/mimiciv_icd/code_freqs.dict\", \"rb\"))\n",
    "count = 0\n",
    "icd_list = []\n",
    "for key, value in sorted_code_freqs.items():\n",
    "    if count > 71:\n",
    "        break\n",
    "    icd_list.append(key.strip())\n",
    "    count +=1\n",
    "np.array(icd_list)"
   ]
  },
  {
   "cell_type": "code",
   "execution_count": 19,
   "metadata": {},
   "outputs": [
    {
     "name": "stdout",
     "output_type": "stream",
     "text": [
      "\\begin{itemize}\n",
      " \\item ICD9: 4019\n",
      " \\item ICD9: 2724\n",
      " \\item ICD10: I10\n",
      " \\item ICD10: E785\n",
      " \\item ICD9: 53081\n",
      " \\item ICD9: 25000\n",
      " \\item ICD10: Z87891\n",
      " \\item ICD9: 42731\n",
      " \\item ICD9: 311\n",
      " \\item ICD9: 4280\n",
      " \\item ICD9: 41401\n",
      " \\item ICD10: K219\n",
      " \\item ICD9: V1582\n",
      " \\item ICD10: F329\n",
      " \\item ICD9: 5849\n",
      " \\item ICD9: 2449\n",
      " \\item ICD10: I2510\n",
      " \\item ICD9: 3051\n",
      " \\item ICD9: 2859\n",
      " \\item ICD9: 40390\n",
      " \\item ICD10: F419\n",
      " \\item ICD9: V5861\n",
      " \\item ICD9: 30000\n",
      " \\item ICD10: N179\n",
      " \\item ICD9: 5990\n",
      " \\item ICD9: 2720\n",
      " \\item ICD9: 49390\n",
      " \\item ICD9: V5867\n",
      " \\item ICD10: Z794\n",
      " \\item ICD10: E039\n",
      " \\item ICD9: 5859\n",
      " \\item ICD10: Z7901\n",
      " \\item ICD10: E119\n",
      " \\item ICD9: 32723\n",
      " \\item ICD10: F17210\n",
      " \\item ICD10: Y929\n",
      " \\item ICD9: V4582\n",
      " \\item ICD9: 412\n",
      " \\item ICD9: V5866\n",
      " \\item ICD10: G4733\n",
      " \\item ICD9: 496\n",
      " \\item ICD9: 27800\n",
      " \\item ICD10: E669\n",
      " \\item ICD10: I4891\n",
      " \\item ICD10: D649\n",
      " \\item ICD10: J45909\n",
      " \\item ICD10: Z7902\n",
      " \\item ICD9: V4581\n",
      " \\item ICD9: 2761\n",
      " \\item ICD9: 41400\n",
      " \\item ICD9: 73300\n",
      " \\item ICD9: 30500\n",
      " \\item ICD10: J449\n",
      " \\item ICD9: 33829\n",
      " \\item ICD9: V1251\n",
      " \\item ICD10: Z66\n",
      " \\item ICD9: 486\n",
      " \\item ICD10: N390\n",
      " \\item ICD9: 2749\n",
      " \\item ICD9: 27651\n",
      " \\item ICD10: D62\n",
      " \\item ICD10: I129\n",
      " \\item ICD9: V1254\n",
      " \\item ICD9: V4986\n",
      " \\item ICD9: V270\n",
      " \\item ICD10: E1122\n",
      " \\item ICD9: 78650\n",
      " \\item ICD10: I252\n",
      " \\item ICD9: 2851\n",
      " \\item ICD10: N189\n",
      " \\item ICD9: 60000\n",
      " \\item ICD9: 56400\n",
      "\\end{itemize}\n"
     ]
    }
   ],
   "source": [
    "def list_to_latex(data):\n",
    "    return \"\\\\begin{itemize}\\n\" + \"\\n\".join([f\" \\item {item}\" for item in data]) + \"\\n\\\\end{itemize}\"\n",
    "print(list_to_latex(icd_list))"
   ]
  },
  {
   "cell_type": "code",
   "execution_count": 1,
   "metadata": {},
   "outputs": [
    {
     "data": {
      "text/plain": [
       "array(['Vancomycin', 'CefazoLIN', 'Ciprofloxacin HCl', 'CefePIME',\n",
       "       'MetRONIDAZOLE (FLagyl)', 'CeftriaXONE', 'Levofloxacin',\n",
       "       'Piperacillin-Tazobactam', 'Ciprofloxacin IV', 'CefTRIAXone',\n",
       "       'CeFAZolin', 'Azithromycin', 'MetroNIDAZOLE',\n",
       "       'Sulfameth/Trimethoprim DS', 'Ampicillin-Sulbactam', 'Clindamycin',\n",
       "       'Amoxicillin-Clavulanic Acid', 'Cephalexin', 'Meropenem',\n",
       "       'Doxycycline Hyclate', 'Vancomycin Oral Liquid',\n",
       "       'Sulfameth/Trimethoprim SS', 'Cefpodoxime Proxetil',\n",
       "       'Ampicillin Sodium', 'CefTAZidime', 'Mupirocin Ointment 2%',\n",
       "       'Azithromycin', 'Linezolid', 'Gentamicin Sulfate', 'Gentamicin',\n",
       "       'Nitrofurantoin Monohyd (MacroBID)', 'Piperacillin-Tazobactam Na',\n",
       "       'Nafcillin', 'Amoxicillin', 'Mupirocin Nasal Ointment 2%',\n",
       "       'Erythromycin', 'Aztreonam', 'Tobramycin Sulfate',\n",
       "       'Sulfameth/Trimethoprim Suspension', 'Penicillin G Potassium',\n",
       "       'LevoFLOXacin', 'Clarithromycin', 'Ampicillin',\n",
       "       'Sulfamethoxazole-Trimethoprim', 'Rifampin',\n",
       "       'Nitrofurantoin (Macrodantin)', 'CeftazIDIME', 'DiCLOXacillin',\n",
       "       'Vancomycin Enema', 'Minocycline', 'Ciprofloxacin',\n",
       "       'Amoxicillin-Clavulanate Susp.', 'Neomycin Sulfate',\n",
       "       'Penicillin V Potassium', 'Sulfameth/Trimethoprim',\n",
       "       'Vancomycin Antibiotic Lock', 'Amikacin', 'Ceftaroline',\n",
       "       'vancomycin', 'Erythromycin Ethylsuccinate Suspension',\n",
       "       'Moxifloxacin', 'Tetracycline HCl', 'Tobramycin Inhalation Soln',\n",
       "       'Tetracycline', 'moxifloxacin', 'AMOXicillin Oral Susp.',\n",
       "       'Neomycin/Polymyxin B Sulfate', 'Penicillin G Benzathine',\n",
       "       'Trimethoprim', 'CefTRIAXone Graded Challenge',\n",
       "       'Cefepime Graded Challenge', 'Meropenem Graded Challenge'],\n",
       "      dtype='<U38')"
      ]
     },
     "execution_count": 1,
     "metadata": {},
     "output_type": "execute_result"
    }
   ],
   "source": [
    "import pickle\n",
    "import numpy as np\n",
    "sorted_code_freqs = pickle.load(open(\"data/mimiciv_age_antibiotic/antibiotic_to_index.dict\", \"rb\"))\n",
    "count = 0\n",
    "icd_list = []\n",
    "for key, value in sorted_code_freqs.items():\n",
    "    icd_list.append(key.strip())\n",
    "np.array(icd_list)"
   ]
  }
 ],
 "metadata": {
  "kernelspec": {
   "display_name": "gen-ehr",
   "language": "python",
   "name": "python3"
  },
  "language_info": {
   "codemirror_mode": {
    "name": "ipython",
    "version": 3
   },
   "file_extension": ".py",
   "mimetype": "text/x-python",
   "name": "python",
   "nbconvert_exporter": "python",
   "pygments_lexer": "ipython3",
   "version": "3.11.4"
  }
 },
 "nbformat": 4,
 "nbformat_minor": 2
}
