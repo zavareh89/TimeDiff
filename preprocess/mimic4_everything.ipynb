{
 "cells": [
  {
   "cell_type": "code",
   "execution_count": 1,
   "metadata": {},
   "outputs": [],
   "source": [
    "import helpers as help\n",
    "username = input(\"Enter database name\")\n",
    "password = input(\"Enter password\")\n",
    "load = help.DataBaseLoader(user=username, password=password, schema='mimiciv_derived')\n",
    "\n",
    "\n",
    "antibiotic_df = load['antibiotic'] # 6 seconds\n",
    "# blood_differential_df = load['blood_differential'] # 30 seconds\n",
    "# chemistry_df = load['chemistry'] # 20 seconds\n",
    "vitalsign_df = load['vitalsign'] # 1 minute 20 seconds"
   ]
  },
  {
   "cell_type": "code",
   "execution_count": 2,
   "metadata": {},
   "outputs": [],
   "source": [
    "load_mimic_hosp = help.DataBaseLoader(user=username, password=password, schema='mimiciv_hosp')\n",
    "admissions = load_mimic_hosp['admissions']"
   ]
  },
  {
   "cell_type": "code",
   "execution_count": 3,
   "metadata": {},
   "outputs": [
    {
     "name": "stdout",
     "output_type": "stream",
     "text": [
      "18139479\n"
     ]
    },
    {
     "data": {
      "text/html": [
       "<div>\n",
       "<style scoped>\n",
       "    .dataframe tbody tr th:only-of-type {\n",
       "        vertical-align: middle;\n",
       "    }\n",
       "\n",
       "    .dataframe tbody tr th {\n",
       "        vertical-align: top;\n",
       "    }\n",
       "\n",
       "    .dataframe thead th {\n",
       "        text-align: right;\n",
       "    }\n",
       "</style>\n",
       "<table border=\"1\" class=\"dataframe\">\n",
       "  <thead>\n",
       "    <tr style=\"text-align: right;\">\n",
       "      <th></th>\n",
       "      <th>subject_id</th>\n",
       "    </tr>\n",
       "    <tr>\n",
       "      <th>stay_id</th>\n",
       "      <th></th>\n",
       "    </tr>\n",
       "  </thead>\n",
       "  <tbody>\n",
       "    <tr>\n",
       "      <th>39553978</th>\n",
       "      <td>10000032</td>\n",
       "    </tr>\n",
       "    <tr>\n",
       "      <th>39765666</th>\n",
       "      <td>10000980</td>\n",
       "    </tr>\n",
       "    <tr>\n",
       "      <th>34592300</th>\n",
       "      <td>10001217</td>\n",
       "    </tr>\n",
       "    <tr>\n",
       "      <th>37067082</th>\n",
       "      <td>10001217</td>\n",
       "    </tr>\n",
       "    <tr>\n",
       "      <th>31205490</th>\n",
       "      <td>10001725</td>\n",
       "    </tr>\n",
       "  </tbody>\n",
       "</table>\n",
       "</div>"
      ],
      "text/plain": [
       "          subject_id\n",
       "stay_id             \n",
       "39553978    10000032\n",
       "39765666    10000980\n",
       "34592300    10001217\n",
       "37067082    10001217\n",
       "31205490    10001725"
      ]
     },
     "execution_count": 3,
     "metadata": {},
     "output_type": "execute_result"
    }
   ],
   "source": [
    "id_mapping = vitalsign_df.drop_duplicates(subset=\"stay_id\")[[\"subject_id\", \"stay_id\"]]\n",
    "\n",
    "\n",
    "# print(id_mapping[id_mapping['stay_id'] == 38141957])\n",
    "\n",
    "id_mapping.set_index('stay_id', inplace=True) \n",
    "print(id_mapping.loc[38141957][0])\n",
    "id_mapping.head()"
   ]
  },
  {
   "cell_type": "code",
   "execution_count": 4,
   "metadata": {},
   "outputs": [
    {
     "name": "stdout",
     "output_type": "stream",
     "text": [
      "25970\n",
      "25064\n",
      "25058\n",
      "25769\n",
      "25224\n"
     ]
    }
   ],
   "source": [
    "load_greater_N = 70\n",
    "hr_df = load.query(\n",
    "        f\"\"\"\n",
    "        WITH heartrate AS(\n",
    "        SELECT subject_id, stay_id\n",
    "        , charttime\n",
    "        , heart_rate\n",
    "        FROM vitalsign\n",
    "        WHERE heart_rate IS NOT NULL\n",
    "        )\n",
    "        , count_measurement AS(\n",
    "            SELECT h.stay_id, COUNT(h.heart_rate) as num\n",
    "            FROM heartrate h\n",
    "            GROUP BY h.stay_id\n",
    "        )\n",
    "        , filtered AS (\n",
    "            SELECT stay_id, num\n",
    "            FROM count_measurement\n",
    "            WHERE num >= {load_greater_N}\n",
    "        )\n",
    "        SELECT v.subject_id, v.stay_id, v.charttime, v.heart_rate\n",
    "        FROM heartrate v\n",
    "        INNER JOIN filtered f\n",
    "            ON v.stay_id = f.stay_id\n",
    "        \"\"\"\n",
    "    )\n",
    "sysbp_df = load.query(\n",
    "        f\"\"\"\n",
    "        WITH sysbp AS(\n",
    "        SELECT subject_id, stay_id\n",
    "        , charttime\n",
    "        , sbp\n",
    "        FROM vitalsign\n",
    "        WHERE sbp IS NOT NULL\n",
    "        )\n",
    "        , count_measurement AS(\n",
    "            SELECT h.stay_id, COUNT(h.sbp) as num\n",
    "            FROM sysbp h\n",
    "            GROUP BY h.stay_id\n",
    "        )\n",
    "        , filtered AS (\n",
    "            SELECT stay_id, num\n",
    "            FROM count_measurement\n",
    "            WHERE num >= {load_greater_N}\n",
    "        )\n",
    "        SELECT v.subject_id, v.stay_id, v.charttime, v.sbp\n",
    "        FROM sysbp v\n",
    "        INNER JOIN filtered f\n",
    "            ON v.stay_id = f.stay_id\n",
    "        \"\"\"\n",
    "    )\n",
    "diabp_df = load.query(\n",
    "        f\"\"\"\n",
    "        WITH diabp AS(\n",
    "        SELECT subject_id, stay_id\n",
    "        , charttime\n",
    "        , dbp\n",
    "        FROM vitalsign\n",
    "        WHERE dbp IS NOT NULL\n",
    "        )\n",
    "        , count_measurement AS(\n",
    "            SELECT h.stay_id, COUNT(h.dbp) as num\n",
    "            FROM diabp h\n",
    "            GROUP BY h.stay_id\n",
    "        )\n",
    "        , filtered AS (\n",
    "            SELECT stay_id, num\n",
    "            FROM count_measurement\n",
    "            WHERE num >= {load_greater_N}\n",
    "        )\n",
    "        SELECT v.subject_id, v.stay_id, v.charttime, v.dbp\n",
    "        FROM diabp v\n",
    "        INNER JOIN filtered f\n",
    "            ON v.stay_id = f.stay_id\n",
    "        \"\"\"\n",
    "    )\n",
    "resp_df = load.query(\n",
    "        f\"\"\"\n",
    "        WITH resp AS(\n",
    "        SELECT subject_id, stay_id\n",
    "        , charttime\n",
    "        , resp_rate\n",
    "        FROM vitalsign\n",
    "        WHERE resp_rate IS NOT NULL\n",
    "        )\n",
    "        , count_measurement AS(\n",
    "            SELECT h.stay_id, COUNT(h.resp_rate) as num\n",
    "            FROM resp h\n",
    "            GROUP BY h.stay_id\n",
    "        )\n",
    "        , filtered AS (\n",
    "            SELECT stay_id, num\n",
    "            FROM count_measurement\n",
    "            WHERE num >= {load_greater_N}\n",
    "        )\n",
    "        SELECT v.subject_id, v.stay_id, v.charttime, v.resp_rate\n",
    "        FROM resp v\n",
    "        INNER JOIN filtered f\n",
    "            ON v.stay_id = f.stay_id\n",
    "        \"\"\"\n",
    "    )\n",
    "oxySat_df = load.query(\n",
    "        f\"\"\"\n",
    "        WITH oxysat AS(\n",
    "        SELECT subject_id, stay_id\n",
    "        , charttime\n",
    "        , spo2\n",
    "        FROM vitalsign\n",
    "        WHERE spo2 IS NOT NULL\n",
    "        )\n",
    "        , count_measurement AS(\n",
    "            SELECT h.stay_id, COUNT(h.spo2) as num\n",
    "            FROM oxysat h\n",
    "            GROUP BY h.stay_id\n",
    "        )\n",
    "        , filtered AS (\n",
    "            SELECT stay_id, num\n",
    "            FROM count_measurement\n",
    "            WHERE num >= {load_greater_N}\n",
    "        )\n",
    "        SELECT v.subject_id, v.stay_id, v.charttime, v.spo2\n",
    "        FROM oxysat v\n",
    "        INNER JOIN filtered f\n",
    "            ON v.stay_id = f.stay_id\n",
    "        \"\"\"\n",
    "    )\n",
    "print(len(hr_df['stay_id'].unique()))\n",
    "print(len(sysbp_df['stay_id'].unique()))\n",
    "print(len(diabp_df['stay_id'].unique()))\n",
    "print(len(resp_df['stay_id'].unique()))\n",
    "print(len(oxySat_df['stay_id'].unique()))"
   ]
  },
  {
   "cell_type": "code",
   "execution_count": 5,
   "metadata": {},
   "outputs": [
    {
     "name": "stdout",
     "output_type": "stream",
     "text": [
      "23797\n"
     ]
    }
   ],
   "source": [
    "which_id = 'stay_id'\n",
    "hr_ids = set(hr_df[which_id].unique())\n",
    "sysbp_ids = set(sysbp_df[which_id].unique())\n",
    "diabp_ids = set(diabp_df[which_id].unique())\n",
    "resp_ids = set(resp_df[which_id].unique())\n",
    "oxySat_ids = set(oxySat_df[which_id].unique())\n",
    "\n",
    "intersection = sysbp_ids & hr_ids & diabp_ids & resp_ids & oxySat_ids\n",
    "print(len(intersection))\n",
    "vitalsigns_stay_ids = [*intersection,]"
   ]
  },
  {
   "cell_type": "code",
   "execution_count": 6,
   "metadata": {},
   "outputs": [
    {
     "data": {
      "text/plain": [
       "138269"
      ]
     },
     "execution_count": 6,
     "metadata": {},
     "output_type": "execute_result"
    }
   ],
   "source": [
    "chem_min_measurement = 1\n",
    "glucose_df = load.query(\n",
    "    f\"\"\"\n",
    "    WITH chem AS(\n",
    "    SELECT *\n",
    "    FROM chemistry\n",
    "    WHERE glucose IS NOT NULL\n",
    "    )\n",
    "    , count_measurement AS(\n",
    "        SELECT b.hadm_id, COUNT(b.glucose) as num\n",
    "        FROM chem b\n",
    "        GROUP BY b.hadm_id\n",
    "    )\n",
    "    , filtered AS (\n",
    "        SELECT hadm_id, num\n",
    "        FROM count_measurement\n",
    "        WHERE num >= {chem_min_measurement}\n",
    "    )\n",
    "    SELECT *\n",
    "    FROM chem v\n",
    "    INNER JOIN filtered f\n",
    "        ON v.hadm_id = f.hadm_id\n",
    "    \"\"\"\n",
    ")\n",
    "glucose_df = glucose_df.loc[:,~glucose_df.columns.duplicated()].copy()\n",
    "# glucose_df.drop(\"num\", axis=1, inplace=True) # axis=1 means columns\n",
    "glucose_df = glucose_df[['subject_id', 'charttime', 'glucose']]\n",
    "creatinine_df = load.query(\n",
    "    f\"\"\"\n",
    "    WITH chem AS(\n",
    "    SELECT *\n",
    "    FROM chemistry\n",
    "    WHERE creatinine IS NOT NULL\n",
    "    )\n",
    "    , count_measurement AS(\n",
    "        SELECT b.hadm_id, COUNT(b.creatinine) as num\n",
    "        FROM chem b\n",
    "        GROUP BY b.hadm_id\n",
    "    )\n",
    "    , filtered AS (\n",
    "        SELECT hadm_id, num\n",
    "        FROM count_measurement\n",
    "        WHERE num >= {chem_min_measurement}\n",
    "    )\n",
    "    SELECT *\n",
    "    FROM chem v\n",
    "    INNER JOIN filtered f\n",
    "        ON v.hadm_id = f.hadm_id\n",
    "    \"\"\"\n",
    ")\n",
    "creatinine_df = creatinine_df.loc[:,~creatinine_df.columns.duplicated()].copy()\n",
    "creatinine_df = creatinine_df[['subject_id', 'charttime', 'creatinine']]\n",
    "sodium_df = load.query(\n",
    "    f\"\"\"\n",
    "    WITH chem AS(\n",
    "    SELECT *\n",
    "    FROM chemistry\n",
    "    WHERE sodium IS NOT NULL\n",
    "    )\n",
    "    , count_measurement AS(\n",
    "        SELECT b.hadm_id, COUNT(b.sodium) as num\n",
    "        FROM chem b\n",
    "        GROUP BY b.hadm_id\n",
    "    )\n",
    "    , filtered AS (\n",
    "        SELECT hadm_id, num\n",
    "        FROM count_measurement\n",
    "        WHERE num >= {chem_min_measurement}\n",
    "    )\n",
    "    SELECT *\n",
    "    FROM chem v\n",
    "    INNER JOIN filtered f\n",
    "        ON v.hadm_id = f.hadm_id\n",
    "    \"\"\"\n",
    ")\n",
    "sodium_df = sodium_df.loc[:,~sodium_df.columns.duplicated()].copy()\n",
    "sodium_df = sodium_df[['subject_id', 'charttime', 'sodium']]\n",
    "\n",
    "chem_intersection = set(glucose_df['subject_id'].unique()) & set(creatinine_df['subject_id'].unique()) & set(sodium_df['subject_id'].unique()) \n",
    "len(chem_intersection)"
   ]
  },
  {
   "cell_type": "markdown",
   "metadata": {},
   "source": [
    "### Finding overlapping patients "
   ]
  },
  {
   "cell_type": "code",
   "execution_count": 7,
   "metadata": {},
   "outputs": [
    {
     "name": "stdout",
     "output_type": "stream",
     "text": [
      "19157\n"
     ]
    }
   ],
   "source": [
    "import _pickle as pickle\n",
    "\n",
    "vitalsigns_subjectid_set = set(id_mapping.loc[vitalsigns_stay_ids][\"subject_id\"].drop_duplicates().tolist())\n",
    "file = open('data/mimiciv_icd/patient_ids_in_order.list', 'rb')\n",
    "icd_patient_ids_in_order = pickle.load(file)\n",
    "file.close()\n",
    "id_to_antibiotic_indices = pickle.load(open(\"data/mimiciv_age_antibiotic/id_to_antibiotic_indices.dict\", \"rb\"))\n",
    "id_to_age = pickle.load(open(\"data/mimiciv_age_antibiotic/id_to_antibiotic_indices.dict\", \"rb\"))\n",
    "antibiotic_set = set(id_to_antibiotic_indices.keys())\n",
    "icd_set = set(icd_patient_ids_in_order)\n",
    "# intersection = vitalsigns_set & icd_set & chem_intersection\n",
    "intersection = vitalsigns_subjectid_set & icd_set\n",
    "print(len(intersection))\n",
    "\n",
    "# NOTE: using vitalsign_stay_ids for training dataset\n",
    "vital_icd_patient_list = [*intersection,]"
   ]
  },
  {
   "cell_type": "markdown",
   "metadata": {},
   "source": [
    "### Load in ICD and age data"
   ]
  },
  {
   "cell_type": "code",
   "execution_count": 8,
   "metadata": {},
   "outputs": [],
   "source": [
    "icd_order = pickle.load(open('data/mimiciv_icd/icd_codes_in_order.list', 'rb'))\n",
    "icd_matrix = pickle.load(open('data/mimiciv_icd/binary_icd.matrix', 'rb'))   # rows is patients, columns is icd code\n",
    "patient_to_index = pickle.load(open('data/mimiciv_icd/patient_to_index.dict', 'rb'))   # rows is patients, columns is icd code\n",
    "id_to_age = pickle.load(open('data/mimiciv_age_antibiotic/id_to_age.dict', 'rb'))\n",
    "# ages over 89 are all set to 91 (18, ... 89, 91), 73 ages in total\n",
    "# indices 0 - 71 represent (19 ~ 89, 91) ages\n",
    "# when entire vector is 0 --> age: 18\n"
   ]
  },
  {
   "cell_type": "code",
   "execution_count": 9,
   "metadata": {},
   "outputs": [
    {
     "data": {
      "text/plain": [
       "set"
      ]
     },
     "execution_count": 9,
     "metadata": {},
     "output_type": "execute_result"
    }
   ],
   "source": [
    "expired = admissions[admissions['hospital_expire_flag'] == 1]\n",
    "expired_subject_ids = expired[['subject_id']]\n",
    "expired_subject_ids = set(expired_subject_ids['subject_id'])\n",
    "type(expired_subject_ids) # set type, O(1) search complexity"
   ]
  },
  {
   "cell_type": "markdown",
   "metadata": {},
   "source": [
    "## Generate dataset before processing"
   ]
  },
  {
   "cell_type": "code",
   "execution_count": 10,
   "metadata": {},
   "outputs": [
    {
     "name": "stderr",
     "output_type": "stream",
     "text": [
      "100%|██████████| 23797/23797 [07:59<00:00, 49.65it/s]"
     ]
    },
    {
     "name": "stdout",
     "output_type": "stream",
     "text": [
      "15883\n"
     ]
    },
    {
     "name": "stderr",
     "output_type": "stream",
     "text": [
      "\n"
     ]
    },
    {
     "data": {
      "text/plain": [
       "19915"
      ]
     },
     "execution_count": 10,
     "metadata": {},
     "output_type": "execute_result"
    }
   ],
   "source": [
    "import numpy as np\n",
    "\n",
    "from tqdm import tqdm\n",
    "\n",
    "list = [\"heart_rate\", \"sbp\", \"dbp\", \"resp_rate\", \"spo2\", \"glucose\", \"creatinine\", \"sodium\"]\n",
    "df_list = [hr_df, sysbp_df, diabp_df, resp_df, oxySat_df, glucose_df, creatinine_df, sodium_df]\n",
    "min_length = float(\"inf\")\n",
    "num_points, num_nan = [], []\n",
    "df_id_sets = []\n",
    "for df in df_list:\n",
    "    df_id_sets.append(df['subject_id'].unique())\n",
    "\n",
    "num_icd_codes = 13365\n",
    "\n",
    "subject_ids = set()\n",
    "\n",
    "processed_data = []\n",
    "\n",
    "for stay_id in tqdm(vitalsigns_stay_ids): # here is stay_id\n",
    "    subject_id = id_mapping.loc[stay_id][\"subject_id\"]\n",
    "    \n",
    "    feature_data = [] \n",
    "    \n",
    "    for df_index, feature in enumerate(list):\n",
    "        if df_index < 5: # if vital sign measurement, use stay_id\n",
    "            patient_id = stay_id\n",
    "        else: # rest use subject_id\n",
    "            patient_id = subject_id\n",
    "            \n",
    "        if df_index >= 5 and subject_id not in df_id_sets[df_index]: # does not have chemistry measurement\n",
    "            a = np.empty(72)\n",
    "            a[:] = np.nan\n",
    "        \n",
    "            feature_data.append(a)\n",
    "            feature_data.append(np.isnan(a).astype(int))\n",
    "        else:\n",
    "            if df_index < 5: \n",
    "                specific_df = df_list[df_index][df_list[df_index]['stay_id'] == patient_id]           \n",
    "            else:\n",
    "                specific_df = df_list[df_index][df_list[df_index]['subject_id'] == patient_id]           \n",
    "            \n",
    "\n",
    "            specific_df = specific_df[['charttime', feature]]          # only keep the columns we need\n",
    "            if df_index >= 5: # infrequent measurements\n",
    "                specific_df['charttime'] = specific_df['charttime'].dt.round('20min')\n",
    "            specific_df.set_index('charttime', inplace=True)        # set the index to be charttime\n",
    "            specific_df = specific_df[~specific_df.index.duplicated()] # remove charttime duplicates (only should be from rounding)\n",
    "            \n",
    "            # num_points.append(specific_df.shape[0])\n",
    "            \n",
    "            df_hourly = specific_df.resample('H').asfreq()  # Resample to hourly frequency\n",
    "            # num_nan.append(df_hourly.isna().sum().sum())\n",
    "            \n",
    "            temp = df_hourly[feature].to_numpy()\n",
    "            \n",
    "            if len(temp) >= 72:\n",
    "                feature_data.append(temp)\n",
    "                feature_data.append(np.isnan(temp).astype(int))\n",
    "    \n",
    "    # add ICD codes if patient has ICD code\n",
    "    if subject_id in patient_to_index:\n",
    "        icd_vector = icd_matrix[patient_to_index[subject_id]]\n",
    "        feature_data.append(icd_vector[:len(temp)])\n",
    "    else: # if no ICD codes, empty 0 vector\n",
    "        feature_data.append(np.zeros(len(temp)))\n",
    "        \n",
    "    # add antibiotic\n",
    "    if subject_id in id_to_antibiotic_indices:\n",
    "        antibiotic_vector = np.zeros(72)\n",
    "        if len(id_to_antibiotic_indices[subject_id]) != 0:\n",
    "            antibiotic_vector[id_to_antibiotic_indices[subject_id]] = 1\n",
    "            feature_data.append(antibiotic_vector)\n",
    "    else: # if no antibiotic, empty 0 vector\n",
    "        feature_data.append(np.zeros(72))\n",
    "        \n",
    "    # add age\n",
    "    # set entire vector to same age\n",
    "    if subject_id in id_to_age: # will always have age\n",
    "        patient_age = id_to_age[subject_id] \n",
    "        age_vector = np.full(shape=72, fill_value=patient_age)\n",
    "        feature_data.append(age_vector)\n",
    "    \n",
    "    # add expired indicator\n",
    "    if subject_id in expired_subject_ids:    \n",
    "        feature_data.append(np.ones(len(temp)))\n",
    "    else: \n",
    "        feature_data.append(np.zeros(len(temp)))\n",
    "    \n",
    "    if len(feature_data) == 20: # 8 features * 2, + 1 for icd, + 1 for antibiotic, + 1 for age, + 1 for expired\n",
    "        processed_data.append(feature_data)\n",
    "        subject_ids.add(subject_id)\n",
    "    # print()\n",
    "\n",
    "# subject_ids = np.array(subject_ids)\n",
    "print(len(subject_ids))\n",
    "len(processed_data)\n",
    "    "
   ]
  },
  {
   "cell_type": "code",
   "execution_count": null,
   "metadata": {},
   "outputs": [],
   "source": []
  },
  {
   "cell_type": "code",
   "execution_count": 17,
   "metadata": {},
   "outputs": [
    {
     "data": {
      "text/plain": [
       "(19915, 20, 72)"
      ]
     },
     "execution_count": 17,
     "metadata": {},
     "output_type": "execute_result"
    }
   ],
   "source": [
    "import torch\n",
    "\n",
    "N = 72\n",
    "input = np.zeros((len(processed_data), (len(list) * 2) + 4, N))\n",
    "\n",
    "for i, patient_data in enumerate(processed_data):\n",
    "    for j, feature in enumerate(processed_data[i]):\n",
    "        input[i][j] = processed_data[i][j][:N]\n",
    "\n",
    "input.shape\n"
   ]
  },
  {
   "cell_type": "code",
   "execution_count": 18,
   "metadata": {},
   "outputs": [
    {
     "name": "stdout",
     "output_type": "stream",
     "text": [
      "True\n"
     ]
    }
   ],
   "source": [
    "# NanArray = np.isnan(input)\n",
    "# nan_indices = np.where(np.isnan(input))\n",
    "# nan_indices[0]\n",
    "print(np.isnan(input).any())"
   ]
  },
  {
   "cell_type": "code",
   "execution_count": 21,
   "metadata": {},
   "outputs": [],
   "source": [
    "import matplotlib.pyplot as plt\n",
    "import random\n",
    "text_size = 20\n",
    "def graph(samples, channel_num):\n",
    "    rows, cols = 10, ((channel_num) // 2) + 2\n",
    "    fig, axes = plt.subplots(nrows=rows, ncols=cols, figsize=(cols*10, rows*5) )\n",
    "    \n",
    "    \n",
    "    sample_patients = random.sample(range(0, len(samples)), rows)\n",
    "            \n",
    "    for patient_num, patient_index in enumerate(sample_patients): \n",
    "        patient = samples[patient_index]\n",
    "        \n",
    "        \n",
    "        feature_label = [\"Heart Rate (Beats/Min)\", \"SBP (mm Hg)\", \"DBP (mm Hg)\", \"Resp. Rate (Breaths/Min)\", \"SPO2 (%)\", \"Glucose\", \"Creatinine\", \"Sodium\", \"ICD\", \"Antibiotic\", \"Age\", \"Mortality (1/0)\"]\n",
    "        cycle = plt.rcParams['axes.prop_cycle'].by_key()['color']\n",
    "        for feature_index in range(8):    # even numbers are the values              \n",
    "            channel_index = feature_index * 2\n",
    "            \n",
    "            patient_series = patient[channel_index]\n",
    "            patient_series = np.where(patient[channel_index+1] == 1, np.nan, patient[channel_index])\n",
    "        \n",
    "            # plot own graph\n",
    "            if feature_index >= 5:\n",
    "                axes[patient_num, feature_index].scatter(np.arange(1, len(patient_series)+1), patient_series, label = feature_label[feature_index], color = cycle[feature_index])\n",
    "            else:\n",
    "                axes[patient_num, feature_index].plot(np.arange(1, len(patient_series)+1), patient_series, label = feature_label[feature_index], color = cycle[feature_index])\n",
    "            axes[patient_num, feature_index].legend(loc=\"upper right\", fontsize = text_size)\n",
    "            axes[patient_num, feature_index].set_xlabel(\"Time (every 1 hour)\")\n",
    "            axes[patient_num, feature_index].set_ylabel(\"Value\")\n",
    "            # plot overlapping graph\n",
    "            # axes[patient_num, channel_num//2].plot(np.arange(1, len(patient_series)+1), patient_series, label = feature_label[feature_index]) \n",
    "        \n",
    "        # overlapping graph format\n",
    "        # axes[patient_num, channel_num//2].legend(loc=\"upper right\", fontsize = 12)\n",
    "        # axes[patient_num, channel_num//2].set_xlabel(\"Time (every 1 hour)\")\n",
    "        # axes[patient_num, channel_num//2].set_ylabel(\"Value\")\n",
    "        \n",
    "        # plot icd\n",
    "        axes[patient_num, cols-4].scatter(np.arange(1, len(patient_series)+1), patient[-4], label=feature_label[-4], color=cycle[-4])\n",
    "        axes[patient_num, cols-4].legend(loc=\"upper right\", fontsize = text_size)\n",
    "        \n",
    "        # plot antibiotic\n",
    "        axes[patient_num, cols-3].scatter(np.arange(1, len(patient_series)+1), patient[-3], label=feature_label[-3], color=cycle[-3])\n",
    "        axes[patient_num, cols-3].legend(loc=\"upper right\", fontsize = text_size)\n",
    "        \n",
    "        # plot age\n",
    "        axes[patient_num, cols-2].plot(np.arange(1, len(patient_series)+1), patient[-2], label=feature_label[-2], color=cycle[-2])\n",
    "        axes[patient_num, cols-2].legend(loc=\"upper right\", fontsize = text_size)\n",
    "        \n",
    "        # plot mortality\n",
    "        axes[patient_num, cols-1].plot(np.arange(1, len(patient_series)+1), patient[-1], label=feature_label[-1], color=cycle[-1])\n",
    "        axes[patient_num, cols-1].legend(loc=\"upper right\", fontsize = text_size)\n",
    "            \n",
    "    plt.tight_layout()\n",
    "    plt.show()\n",
    "    plt.close"
   ]
  },
  {
   "cell_type": "code",
   "execution_count": 1,
   "metadata": {},
   "outputs": [
    {
     "ename": "NameError",
     "evalue": "name 'graph' is not defined",
     "output_type": "error",
     "traceback": [
      "\u001b[0;31m---------------------------------------------------------------------------\u001b[0m",
      "\u001b[0;31mNameError\u001b[0m                                 Traceback (most recent call last)",
      "Cell \u001b[0;32mIn[1], line 1\u001b[0m\n\u001b[0;32m----> 1\u001b[0m \u001b[43mgraph\u001b[49m(\u001b[38;5;28minput\u001b[39m, \u001b[38;5;241m20\u001b[39m)\n",
      "\u001b[0;31mNameError\u001b[0m: name 'graph' is not defined"
     ]
    }
   ],
   "source": [
    "graph(input, 20)"
   ]
  },
  {
   "cell_type": "code",
   "execution_count": 24,
   "metadata": {},
   "outputs": [
    {
     "data": {
      "text/plain": [
       "array([39., 39., 39., 39., 39., 39., 39., 39., 39., 39., 39., 39., 39.,\n",
       "       39., 39., 39., 39., 39., 39., 39., 39., 39., 39., 39., 39., 39.,\n",
       "       39., 39., 39., 39., 39., 39., 39., 39., 39., 39., 39., 39., 39.,\n",
       "       39., 39., 39., 39., 39., 39., 39., 39., 39., 39., 39., 39., 39.,\n",
       "       39., 39., 39., 39., 39., 39., 39., 39., 39., 39., 39., 39., 39.,\n",
       "       39., 39., 39., 39., 39., 39., 39.])"
      ]
     },
     "execution_count": 24,
     "metadata": {},
     "output_type": "execute_result"
    }
   ],
   "source": [
    "# keep mortality only\n",
    "# np.squeeze(input[:,10:,:1]).shape\n",
    "input[201][-2]"
   ]
  },
  {
   "cell_type": "code",
   "execution_count": 25,
   "metadata": {},
   "outputs": [
    {
     "name": "stdout",
     "output_type": "stream",
     "text": [
      "Seed set to 2023\n",
      "\n",
      "14936\n",
      "4979\n"
     ]
    }
   ],
   "source": [
    "from helpers import seed_everything\n",
    "from sklearn.model_selection import train_test_split\n",
    "seed_everything(2023)\n",
    "\n",
    "\n",
    "np.random.shuffle(input)\n",
    "\n",
    "\n",
    "train_num = int(len(input) * 0.75) \n",
    "test_num = int(len(input) - train_num)\n",
    "    \n",
    "# X is input, Y is just mortality indicator (input X still contains mortality)\n",
    "X, y = input, np.squeeze(input[:,-1:,:1])\n",
    "X_train, X_test, y_train, y_test = train_test_split(X, y, test_size=test_num, train_size=train_num, random_state=2023, shuffle=True, stratify=y)\n",
    "\n",
    "print(len(X_train))\n",
    "print(len(X_test))\n",
    "torch.save(torch.from_numpy(X_train), \"data/mimiciv_everything/mort_added_trainingSamples.pt\")\n",
    "torch.save(torch.from_numpy(X_test), \"data/mimiciv_everything/mort_added_testingSamples.pt\")\n"
   ]
  }
 ],
 "metadata": {
  "kernelspec": {
   "display_name": "gen-ehr",
   "language": "python",
   "name": "python3"
  },
  "language_info": {
   "codemirror_mode": {
    "name": "ipython",
    "version": 3
   },
   "file_extension": ".py",
   "mimetype": "text/x-python",
   "name": "python",
   "nbconvert_exporter": "python",
   "pygments_lexer": "ipython3",
   "version": "3.1.undefined"
  },
  "orig_nbformat": 4
 },
 "nbformat": 4,
 "nbformat_minor": 2
}
